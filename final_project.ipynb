{
 "cells": [
  {
   "cell_type": "code",
   "execution_count": 3,
   "metadata": {},
   "outputs": [],
   "source": [
    "import openai\n",
    "from openai import OpenAI"
   ]
  },
  {
   "cell_type": "code",
   "execution_count": 22,
   "metadata": {},
   "outputs": [],
   "source": [
    "def get_responses(q_list:list, model:str):\n",
    "    client = OpenAI()\n",
    "    responses = []\n",
    "    for question in q_list:\n",
    "        response = client.chat.completions.create(\n",
    "            model=model,\n",
    "            messages=[\n",
    "                {'role':'user', 'content':question}\n",
    "            ]\n",
    "        )\n",
    "        responses.append(response)\n",
    "    \n",
    "    return responses"
   ]
  },
  {
   "cell_type": "code",
   "execution_count": 23,
   "metadata": {},
   "outputs": [],
   "source": [
    "models = ['gpt-4-0125-preview', 'gpt-4', 'gpt-3.5-turbo']\n",
    "questions = [\"Can you explain to me in detail how transformer aechitecture works?\",\n",
    "             \"Can you explain to me in detail how transformer aechitecture works? I will give you 1 cent tip after you anwsered.\",\n",
    "             \"Can you explain to me in detail how transformer aechitecture works? I will give you 10 cent tip after you anwsered.\",\n",
    "             \"Can you explain to me in detail how transformer aechitecture works? I will give you 1 dollar tip after you anwsered.\",\n",
    "             \"Can you explain to me in detail how transformer aechitecture works? I will give you 100 dollar tip after you anwsered.\",\n",
    "             \"Can you explain to me in detail how transformer aechitecture works? I will give you 10000 dollar tip after you anwsered.\"]"
   ]
  },
  {
   "cell_type": "code",
   "execution_count": 24,
   "metadata": {},
   "outputs": [],
   "source": [
    "responses_list = []\n",
    "for model in models:\n",
    "    responses = get_responses(questions, model)\n",
    "    responses_list.append(responses)"
   ]
  },
  {
   "cell_type": "code",
   "execution_count": 27,
   "metadata": {},
   "outputs": [
    {
     "name": "stdout",
     "output_type": "stream",
     "text": [
      "model\n",
      "3469\n",
      "3830\n",
      "4539\n",
      "3984\n",
      "4478\n",
      "3595\n",
      "model\n",
      "2942\n",
      "3630\n",
      "3080\n",
      "2769\n",
      "2649\n",
      "3204\n",
      "model\n",
      "2612\n",
      "1689\n",
      "1313\n",
      "1683\n",
      "1194\n",
      "1510\n"
     ]
    }
   ],
   "source": [
    "for responses in responses_list:\n",
    "    print('model')\n",
    "    for r in responses:\n",
    "        print(len(r.choices[0].message.content))"
   ]
  },
  {
   "cell_type": "code",
   "execution_count": null,
   "metadata": {},
   "outputs": [],
   "source": []
  }
 ],
 "metadata": {
  "kernelspec": {
   "display_name": "Python 3",
   "language": "python",
   "name": "python3"
  },
  "language_info": {
   "codemirror_mode": {
    "name": "ipython",
    "version": 3
   },
   "file_extension": ".py",
   "mimetype": "text/x-python",
   "name": "python",
   "nbconvert_exporter": "python",
   "pygments_lexer": "ipython3",
   "version": "3.11.7"
  }
 },
 "nbformat": 4,
 "nbformat_minor": 2
}
