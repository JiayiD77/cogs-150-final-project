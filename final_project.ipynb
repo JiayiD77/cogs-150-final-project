{
 "cells": [
  {
   "cell_type": "markdown",
   "metadata": {},
   "source": [
    "# Does mentioning tipping in the prompt make LLMs give better answers? If it does, does the amount matter?"
   ]
  },
  {
   "cell_type": "markdown",
   "metadata": {},
   "source": [
    "### Randomness"
   ]
  },
  {
   "cell_type": "code",
   "execution_count": 45,
   "metadata": {},
   "outputs": [],
   "source": [
    "import random"
   ]
  },
  {
   "cell_type": "markdown",
   "metadata": {},
   "source": [
    "Since all LLMs are statistcal models, the answers they generate are random as well. Setting the random seed for all the responses helps with the reproducibility of the result."
   ]
  },
  {
   "cell_type": "code",
   "execution_count": 55,
   "metadata": {},
   "outputs": [
    {
     "data": {
      "text/plain": [
       "[1583, 2249, 1319, 1050, 4597]"
      ]
     },
     "execution_count": 55,
     "metadata": {},
     "output_type": "execute_result"
    }
   ],
   "source": [
    "random.seed(555)\n",
    "random_seeds = [random.randint(0, 5000)for i in range(5)]\n",
    "random_seeds"
   ]
  },
  {
   "cell_type": "markdown",
   "metadata": {},
   "source": [
    "### Model: GPT"
   ]
  },
  {
   "cell_type": "code",
   "execution_count": 3,
   "metadata": {},
   "outputs": [],
   "source": [
    "import openai\n",
    "from openai import OpenAI"
   ]
  },
  {
   "cell_type": "code",
   "execution_count": 79,
   "metadata": {},
   "outputs": [],
   "source": [
    "def get_responses_gpt(q_list:list, model:str, num_choices:int=1):\n",
    "    client = OpenAI()\n",
    "    responses = []\n",
    "    for question in q_list:\n",
    "        response = client.chat.completions.create(\n",
    "            model=model,\n",
    "            messages=[\n",
    "                {'role':'user', 'content':question}\n",
    "            ],\n",
    "            n=num_choices\n",
    "        )\n",
    "        responses.append(response)\n",
    "    \n",
    "    return responses"
   ]
  },
  {
   "cell_type": "markdown",
   "metadata": {},
   "source": [
    "### Testing on several current models"
   ]
  },
  {
   "cell_type": "code",
   "execution_count": 117,
   "metadata": {},
   "outputs": [],
   "source": [
    "questions = [\"Can you explain to me in detail how transformer architecture works?\",\n",
    "             \"Can you explain to me in detail how transformer architecture works? I will tip you 1 cent after you anwsered.\",\n",
    "             \"Can you explain to me in detail how transformer architecture works? I will tip you 10 cents after you anwsered.\",\n",
    "             \"Can you explain to me in detail how transformer architecture works? I will tip you 1 dollar after you anwsered.\",\n",
    "             \"Can you explain to me in detail how transformer architecture works? I will tip you 100 dollars after you anwsered.\",\n",
    "             \"Can you explain to me in detail how transformer architecture works? I will tip you 1000000 dollars after you anwsered.\"]"
   ]
  },
  {
   "cell_type": "code",
   "execution_count": 105,
   "metadata": {},
   "outputs": [],
   "source": [
    "responses_gpt = get_responses_gpt(questions, 'gpt-3.5-turbo', num_choices=5)"
   ]
  },
  {
   "cell_type": "code",
   "execution_count": 107,
   "metadata": {},
   "outputs": [
    {
     "name": "stdout",
     "output_type": "stream",
     "text": [
      "Average token number: 476.000\n",
      "Average token number: 336.000\n",
      "Average token number: 323.400\n",
      "Average token number: 379.600\n",
      "Average token number: 435.800\n",
      "Average token number: 346.400\n"
     ]
    }
   ],
   "source": [
    "for r in responses_gpt:\n",
    "    total_token = r.usage.completion_tokens\n",
    "    print(f'Average token number: {total_token/5:.3f}')"
   ]
  },
  {
   "cell_type": "markdown",
   "metadata": {},
   "source": [
    "### Testing on some older models"
   ]
  },
  {
   "cell_type": "code",
   "execution_count": 108,
   "metadata": {},
   "outputs": [],
   "source": [
    "def get_responses_gpt_legacy(q_list:list, model:str, num_choices:int=1):\n",
    "    client = OpenAI()\n",
    "    responses = []\n",
    "    for question in q_list:\n",
    "        response = client.completions.create(\n",
    "            model=model,\n",
    "            prompt=question,\n",
    "            n=num_choices,\n",
    "            max_tokens=500\n",
    "        )\n",
    "        responses.append(response)\n",
    "    \n",
    "    return responses"
   ]
  },
  {
   "cell_type": "code",
   "execution_count": 118,
   "metadata": {},
   "outputs": [],
   "source": [
    "responses_gpt_legacy = get_responses_gpt_legacy(questions, 'davinci-002', num_choices=5)"
   ]
  },
  {
   "cell_type": "code",
   "execution_count": 119,
   "metadata": {},
   "outputs": [
    {
     "name": "stdout",
     "output_type": "stream",
     "text": [
      "Average token number: 419.600\n",
      "Average token number: 317.600\n",
      "Average token number: 330.000\n",
      "Average token number: 157.200\n",
      "Average token number: 187.400\n",
      "Average token number: 337.200\n"
     ]
    }
   ],
   "source": [
    "for r in responses_gpt_legacy:\n",
    "    total_token = r.usage.completion_tokens\n",
    "    print(f'Average token number: {total_token/5:.3f}')"
   ]
  },
  {
   "cell_type": "code",
   "execution_count": null,
   "metadata": {},
   "outputs": [],
   "source": []
  }
 ],
 "metadata": {
  "kernelspec": {
   "display_name": "Python 3",
   "language": "python",
   "name": "python3"
  },
  "language_info": {
   "codemirror_mode": {
    "name": "ipython",
    "version": 3
   },
   "file_extension": ".py",
   "mimetype": "text/x-python",
   "name": "python",
   "nbconvert_exporter": "python",
   "pygments_lexer": "ipython3",
   "version": "3.11.7"
  }
 },
 "nbformat": 4,
 "nbformat_minor": 2
}
